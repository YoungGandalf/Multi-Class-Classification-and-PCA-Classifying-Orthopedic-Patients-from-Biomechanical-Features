{
 "cells": [
  {
   "cell_type": "markdown",
   "metadata": {},
   "source": [
    "### <font color=\"blue\">Multi-Class Classification and PCA: Classifying Orthopedic Patients from Biomechanical Features</font>"
   ]
  },
  {
   "cell_type": "markdown",
   "metadata": {},
   "source": [
    "Adam Hereth "
   ]
  },
  {
   "cell_type": "markdown",
   "metadata": {},
   "source": [
    "## Overview and Learning Objectives"
   ]
  },
  {
   "cell_type": "markdown",
   "metadata": {},
   "source": [
    "The objective is to build a multi-class classifier that can predict orthopedic disease (three classes) and use PCA for dimensionality reduction.\n",
    "\n",
    "This assignment will help with:\n",
    "- better understanding of multi-classification and the challenges of imbalanced datasets\n",
    "- better understanding and practice with PCA"
   ]
  },
  {
   "cell_type": "markdown",
   "metadata": {},
   "source": [
    "## Part-I Multi-Class Classification with Imbalanced Dataset"
   ]
  },
  {
   "cell_type": "markdown",
   "metadata": {},
   "source": [
    "Working with \"**the biomechanical features of orthopedic patients**\" dataset.\n",
    "[kaggle page](https://www.kaggle.com/uciml/biomechanical-features-of-orthopedic-patients).\n",
    "\n",
    "- The ML task is classifying patients as belonging to one out of three categories in `class` column: Normal (100 patients), Disk Hernia (60 patients) or Spondylolisthesis (150 patients). "
   ]
  },
  {
   "cell_type": "code",
   "execution_count": 1,
   "metadata": {},
   "outputs": [],
   "source": [
    "# Import all the necessary modules from python and sklearn\n",
    "# You may start with pandas, numpy and matplotlib,\n",
    "# and keep adding the necessary modules here as you move forward\n",
    "import pandas as pd\n",
    "import numpy as np\n",
    "import matplotlib.pyplot as plt\n",
    "from sklearn.model_selection import train_test_split\n",
    "from sklearn.model_selection import cross_val_score\n",
    "from sklearn.metrics import classification_report\n",
    "from sklearn.metrics import balanced_accuracy_score\n",
    "from sklearn.ensemble import RandomForestClassifier\n",
    "from sklearn.decomposition import PCA\n",
    "import seaborn as sns; sns.set()\n",
    "%matplotlib inline\n",
    "import warnings\n",
    "warnings.filterwarnings('ignore')"
   ]
  },
  {
   "cell_type": "code",
   "execution_count": 2,
   "metadata": {},
   "outputs": [
    {
     "data": {
      "text/html": [
       "<div>\n",
       "<style scoped>\n",
       "    .dataframe tbody tr th:only-of-type {\n",
       "        vertical-align: middle;\n",
       "    }\n",
       "\n",
       "    .dataframe tbody tr th {\n",
       "        vertical-align: top;\n",
       "    }\n",
       "\n",
       "    .dataframe thead th {\n",
       "        text-align: right;\n",
       "    }\n",
       "</style>\n",
       "<table border=\"1\" class=\"dataframe\">\n",
       "  <thead>\n",
       "    <tr style=\"text-align: right;\">\n",
       "      <th></th>\n",
       "      <th>pelvic_incidence</th>\n",
       "      <th>pelvic_tilt</th>\n",
       "      <th>lumbar_lordosis_angle</th>\n",
       "      <th>sacral_slope</th>\n",
       "      <th>pelvic_radius</th>\n",
       "      <th>degree_spondylolisthesis</th>\n",
       "      <th>class</th>\n",
       "    </tr>\n",
       "  </thead>\n",
       "  <tbody>\n",
       "    <tr>\n",
       "      <th>0</th>\n",
       "      <td>63.027818</td>\n",
       "      <td>22.552586</td>\n",
       "      <td>39.609117</td>\n",
       "      <td>40.475232</td>\n",
       "      <td>98.672917</td>\n",
       "      <td>-0.254400</td>\n",
       "      <td>Hernia</td>\n",
       "    </tr>\n",
       "    <tr>\n",
       "      <th>1</th>\n",
       "      <td>39.056951</td>\n",
       "      <td>10.060991</td>\n",
       "      <td>25.015378</td>\n",
       "      <td>28.995960</td>\n",
       "      <td>114.405425</td>\n",
       "      <td>4.564259</td>\n",
       "      <td>Hernia</td>\n",
       "    </tr>\n",
       "    <tr>\n",
       "      <th>2</th>\n",
       "      <td>68.832021</td>\n",
       "      <td>22.218482</td>\n",
       "      <td>50.092194</td>\n",
       "      <td>46.613539</td>\n",
       "      <td>105.985135</td>\n",
       "      <td>-3.530317</td>\n",
       "      <td>Hernia</td>\n",
       "    </tr>\n",
       "    <tr>\n",
       "      <th>3</th>\n",
       "      <td>69.297008</td>\n",
       "      <td>24.652878</td>\n",
       "      <td>44.311238</td>\n",
       "      <td>44.644130</td>\n",
       "      <td>101.868495</td>\n",
       "      <td>11.211523</td>\n",
       "      <td>Hernia</td>\n",
       "    </tr>\n",
       "    <tr>\n",
       "      <th>4</th>\n",
       "      <td>49.712859</td>\n",
       "      <td>9.652075</td>\n",
       "      <td>28.317406</td>\n",
       "      <td>40.060784</td>\n",
       "      <td>108.168725</td>\n",
       "      <td>7.918501</td>\n",
       "      <td>Hernia</td>\n",
       "    </tr>\n",
       "  </tbody>\n",
       "</table>\n",
       "</div>"
      ],
      "text/plain": [
       "   pelvic_incidence  pelvic_tilt  lumbar_lordosis_angle  sacral_slope  \\\n",
       "0         63.027818    22.552586              39.609117     40.475232   \n",
       "1         39.056951    10.060991              25.015378     28.995960   \n",
       "2         68.832021    22.218482              50.092194     46.613539   \n",
       "3         69.297008    24.652878              44.311238     44.644130   \n",
       "4         49.712859     9.652075              28.317406     40.060784   \n",
       "\n",
       "   pelvic_radius  degree_spondylolisthesis   class  \n",
       "0      98.672917                 -0.254400  Hernia  \n",
       "1     114.405425                  4.564259  Hernia  \n",
       "2     105.985135                 -3.530317  Hernia  \n",
       "3     101.868495                 11.211523  Hernia  \n",
       "4     108.168725                  7.918501  Hernia  "
      ]
     },
     "execution_count": 2,
     "metadata": {},
     "output_type": "execute_result"
    }
   ],
   "source": [
    "# Load the column_3C_weka.csv data as a dataframe using pandas\n",
    "data = pd.read_csv(\"C:/Users/Adam/Desktop/Spring 2021/Machine Learning CMSC 478/Assignments/3/column_3C_weka.csv\")\n",
    "\n",
    "# Show the first five rows\n",
    "data.head()"
   ]
  },
  {
   "cell_type": "markdown",
   "metadata": {},
   "source": [
    "> This data is very clean; thus the preprocessing is minimal; however, you should always check if there is any NAs."
   ]
  },
  {
   "cell_type": "code",
   "execution_count": 3,
   "metadata": {},
   "outputs": [
    {
     "data": {
      "text/plain": [
       "pelvic_incidence            0\n",
       "pelvic_tilt                 0\n",
       "lumbar_lordosis_angle       0\n",
       "sacral_slope                0\n",
       "pelvic_radius               0\n",
       "degree_spondylolisthesis    0\n",
       "class                       0\n",
       "dtype: int64"
      ]
     },
     "execution_count": 3,
     "metadata": {},
     "output_type": "execute_result"
    }
   ],
   "source": [
    "# Check if there is any NAs\n",
    "data.isna().sum()"
   ]
  },
  {
   "cell_type": "markdown",
   "metadata": {},
   "source": [
    "> Your target column for classification is `class`."
   ]
  },
  {
   "cell_type": "code",
   "execution_count": 4,
   "metadata": {},
   "outputs": [],
   "source": [
    "# Get feature vector X (all columns but \"class\") and target label y as \"class\"\n",
    "X = data.drop(columns = ['class'])\n",
    "y = data['class']"
   ]
  },
  {
   "cell_type": "code",
   "execution_count": 5,
   "metadata": {},
   "outputs": [
    {
     "name": "stdout",
     "output_type": "stream",
     "text": [
      "(310, 6)\n"
     ]
    },
    {
     "data": {
      "text/html": [
       "<div>\n",
       "<style scoped>\n",
       "    .dataframe tbody tr th:only-of-type {\n",
       "        vertical-align: middle;\n",
       "    }\n",
       "\n",
       "    .dataframe tbody tr th {\n",
       "        vertical-align: top;\n",
       "    }\n",
       "\n",
       "    .dataframe thead th {\n",
       "        text-align: right;\n",
       "    }\n",
       "</style>\n",
       "<table border=\"1\" class=\"dataframe\">\n",
       "  <thead>\n",
       "    <tr style=\"text-align: right;\">\n",
       "      <th></th>\n",
       "      <th>pelvic_incidence</th>\n",
       "      <th>pelvic_tilt</th>\n",
       "      <th>lumbar_lordosis_angle</th>\n",
       "      <th>sacral_slope</th>\n",
       "      <th>pelvic_radius</th>\n",
       "      <th>degree_spondylolisthesis</th>\n",
       "    </tr>\n",
       "  </thead>\n",
       "  <tbody>\n",
       "    <tr>\n",
       "      <th>0</th>\n",
       "      <td>63.027818</td>\n",
       "      <td>22.552586</td>\n",
       "      <td>39.609117</td>\n",
       "      <td>40.475232</td>\n",
       "      <td>98.672917</td>\n",
       "      <td>-0.254400</td>\n",
       "    </tr>\n",
       "    <tr>\n",
       "      <th>1</th>\n",
       "      <td>39.056951</td>\n",
       "      <td>10.060991</td>\n",
       "      <td>25.015378</td>\n",
       "      <td>28.995960</td>\n",
       "      <td>114.405425</td>\n",
       "      <td>4.564259</td>\n",
       "    </tr>\n",
       "    <tr>\n",
       "      <th>2</th>\n",
       "      <td>68.832021</td>\n",
       "      <td>22.218482</td>\n",
       "      <td>50.092194</td>\n",
       "      <td>46.613539</td>\n",
       "      <td>105.985135</td>\n",
       "      <td>-3.530317</td>\n",
       "    </tr>\n",
       "    <tr>\n",
       "      <th>3</th>\n",
       "      <td>69.297008</td>\n",
       "      <td>24.652878</td>\n",
       "      <td>44.311238</td>\n",
       "      <td>44.644130</td>\n",
       "      <td>101.868495</td>\n",
       "      <td>11.211523</td>\n",
       "    </tr>\n",
       "    <tr>\n",
       "      <th>4</th>\n",
       "      <td>49.712859</td>\n",
       "      <td>9.652075</td>\n",
       "      <td>28.317406</td>\n",
       "      <td>40.060784</td>\n",
       "      <td>108.168725</td>\n",
       "      <td>7.918501</td>\n",
       "    </tr>\n",
       "  </tbody>\n",
       "</table>\n",
       "</div>"
      ],
      "text/plain": [
       "   pelvic_incidence  pelvic_tilt  lumbar_lordosis_angle  sacral_slope  \\\n",
       "0         63.027818    22.552586              39.609117     40.475232   \n",
       "1         39.056951    10.060991              25.015378     28.995960   \n",
       "2         68.832021    22.218482              50.092194     46.613539   \n",
       "3         69.297008    24.652878              44.311238     44.644130   \n",
       "4         49.712859     9.652075              28.317406     40.060784   \n",
       "\n",
       "   pelvic_radius  degree_spondylolisthesis  \n",
       "0      98.672917                 -0.254400  \n",
       "1     114.405425                  4.564259  \n",
       "2     105.985135                 -3.530317  \n",
       "3     101.868495                 11.211523  \n",
       "4     108.168725                  7.918501  "
      ]
     },
     "execution_count": 5,
     "metadata": {},
     "output_type": "execute_result"
    }
   ],
   "source": [
    "# Print X shape and head\n",
    "print(X.shape)\n",
    "X.head()"
   ]
  },
  {
   "cell_type": "code",
   "execution_count": 6,
   "metadata": {},
   "outputs": [
    {
     "name": "stdout",
     "output_type": "stream",
     "text": [
      "(310,)\n",
      "['Hernia' 'Spondylolisthesis' 'Normal']\n",
      "Spondylolisthesis    150\n",
      "Normal               100\n",
      "Hernia                60\n",
      "Name: class, dtype: int64\n"
     ]
    }
   ],
   "source": [
    "# Print y shape, head, unique values and number of instances in each class\n",
    "print(y.shape)\n",
    "print(y.unique())\n",
    "print(y.value_counts())"
   ]
  },
  {
   "cell_type": "markdown",
   "metadata": {},
   "source": [
    "> This indicates that the dataset is imbalanced meaning the number of instances in each class is not balanced, so you should be careful with model evaluation as working with imbalanced data requires specific performance metrics that can address the issue of unequal distribution of labels."
   ]
  },
  {
   "cell_type": "code",
   "execution_count": 7,
   "metadata": {},
   "outputs": [
    {
     "name": "stdout",
     "output_type": "stream",
     "text": [
      "(217, 6)\n",
      "(217,)\n",
      "(93, 6)\n",
      "(93,)\n"
     ]
    }
   ],
   "source": [
    "# Split the data to train and test with ratio of 70/30 for train/test respectively\n",
    "X_train, X_test, y_train, y_test = train_test_split(X, y, test_size=0.30)\n",
    "print(X_train.shape)\n",
    "print(y_train.shape)\n",
    "print(X_test.shape)\n",
    "print(y_test.shape)"
   ]
  },
  {
   "cell_type": "markdown",
   "metadata": {},
   "source": [
    "Next, you're going to build a classifier. Some classifiers like [Random Forests in sklearn](https://scikit-learn.org/stable/modules/generated/sklearn.ensemble.RandomForestClassifier.html) can directly be applied on multi-class classification and there is no need to use OvO and OvR strategies, so let's try RF for this problem.\n",
    "\n",
    " Apply `cross_val_score` on the whole dataset (not just train or test). full documentation of `cross_val_score` [here](https://scikit-learn.org/stable/modules/generated/sklearn.model_selection.cross_val_score.html).\n",
    "\n",
    "> [The balanced accuracy](https://scikit-learn.org/stable/modules/generated/sklearn.metrics.balanced_accuracy_score.html) in binary and multiclass classification tasks deals with imbalanced datasets. It is defined as the average of recall obtained on each class, so in this case the average of recall between three classes."
   ]
  },
  {
   "cell_type": "code",
   "execution_count": 8,
   "metadata": {},
   "outputs": [],
   "source": [
    "# Create a RandomForestClassifier - starting with default hyperparameters,\n",
    "# Set the random_state=42\n",
    "rf_clf = RandomForestClassifier(n_estimators = 100, max_leaf_nodes = 15, min_samples_split = 15,  max_depth = 7, random_state=42)"
   ]
  },
  {
   "cell_type": "code",
   "execution_count": 9,
   "metadata": {},
   "outputs": [
    {
     "name": "stdout",
     "output_type": "stream",
     "text": [
      "Mean cv Score - Random Forest:  0.8\n"
     ]
    }
   ],
   "source": [
    "# Perform a 10-fold cross validation with scoring='balanced_accuracy'\n",
    "\n",
    "rf_cv_score = cross_val_score(rf_clf, X, y, cv=10, scoring='balanced_accuracy')\n",
    "\n",
    "print(\"Mean cv Score - Random Forest: \", rf_cv_score.mean())"
   ]
  },
  {
   "cell_type": "code",
   "execution_count": 10,
   "metadata": {
    "scrolled": true
   },
   "outputs": [
    {
     "data": {
      "image/png": "[encoded data removed]",
      "text/plain": [
       "<Figure size 432x288 with 1 Axes>"
      ]
     },
     "metadata": {
      "needs_background": "light"
     },
     "output_type": "display_data"
    }
   ],
   "source": [
    "# Plot the impact of n_estimators hyperparameter on mean cv score as follows:\n",
    "\n",
    "# 1- Write a for loop that iterates over n_estimators from 1 to 100\n",
    "# 2- In each iteration, do a 10-fold cv with scoring='balanced_accuracy' and calculate rf_cv_score.mean()\n",
    "# and append it to the list rf_mean_cv_scores\n",
    "# 3- Finally, plot rf_mean_cv_scores on y-axis versus n_est_list on x-axis\n",
    "#\n",
    "rf_mean_cv_scores = []\n",
    "n_est_list = range(1,101)\n",
    "for i in range(1,101):\n",
    "  rf_clf = RandomForestClassifier(n_estimators = i, max_leaf_nodes = 15, min_samples_split = 15,  max_depth = 7, random_state=42)\n",
    "  rf_cv_score = cross_val_score(rf_clf, X, y, cv = 10, scoring='balanced_accuracy')\n",
    "  x = rf_cv_score.mean()\n",
    "  rf_mean_cv_scores.append(x)\n",
    "x = n_est_list\n",
    "z = rf_mean_cv_scores\n",
    "plt.plot(x,z)\n",
    "plt.suptitle('Impact of n_estimators Hyperparameter', fontsize=20)\n",
    "plt.xlabel('n_est_list', fontsize=16)\n",
    "plt.ylabel('rf_mean_cv_scores', fontsize=16)\n",
    "plt.show()"
   ]
  },
  {
   "cell_type": "code",
   "execution_count": 11,
   "metadata": {},
   "outputs": [
    {
     "data": {
      "text/plain": [
       "RandomForestClassifier(max_depth=7, max_leaf_nodes=15, min_samples_split=15,\n",
       "                       random_state=42)"
      ]
     },
     "execution_count": 11,
     "metadata": {},
     "output_type": "execute_result"
    }
   ],
   "source": [
    "# Fit the rf_clf on the training set\n",
    "rf_clf.fit(X_train,y_train)"
   ]
  },
  {
   "cell_type": "code",
   "execution_count": 12,
   "metadata": {},
   "outputs": [
    {
     "name": "stdout",
     "output_type": "stream",
     "text": [
      "pelvic_incidence 0.12405751361603362\n",
      "pelvic_tilt 0.06767032083012825\n",
      "lumbar_lordosis_angle 0.11535606373336588\n",
      "sacral_slope 0.1301600538820487\n",
      "pelvic_radius 0.11019477583338486\n",
      "degree_spondylolisthesis 0.4525612721050387\n"
     ]
    }
   ],
   "source": [
    "# Get feature_importances of rf for all features\n",
    "for name, score in zip(data, rf_clf.feature_importances_):\n",
    "    print(name, score)"
   ]
  },
  {
   "cell_type": "code",
   "execution_count": 13,
   "metadata": {},
   "outputs": [],
   "source": [
    "# Make predictions on the test set\n",
    "y_pred = rf_clf.predict(X_test)"
   ]
  },
  {
   "cell_type": "code",
   "execution_count": 14,
   "metadata": {},
   "outputs": [
    {
     "data": {
      "text/plain": [
       "0.8336940836940837"
      ]
     },
     "execution_count": 14,
     "metadata": {},
     "output_type": "execute_result"
    }
   ],
   "source": [
    "# Get the balanced accuracy of predictions on the test set\n",
    "balanced_acc = balanced_accuracy_score(y_test, y_pred)\n",
    "balanced_acc"
   ]
  },
  {
   "cell_type": "markdown",
   "metadata": {},
   "source": [
    "> The classification report reflects the challenge of this imbalanced dataset and clearly shows that the results for different classes significantly vary due to the imbalanced classes."
   ]
  },
  {
   "cell_type": "code",
   "execution_count": 15,
   "metadata": {},
   "outputs": [
    {
     "name": "stdout",
     "output_type": "stream",
     "text": [
      "                   precision    recall  f1-score   support\n",
      "\n",
      "           Hernia       0.82      0.67      0.74        21\n",
      "           Normal       0.75      0.86      0.80        28\n",
      "Spondylolisthesis       0.98      0.98      0.98        44\n",
      "\n",
      "         accuracy                           0.87        93\n",
      "        macro avg       0.85      0.83      0.84        93\n",
      "     weighted avg       0.87      0.87      0.87        93\n",
      "\n"
     ]
    }
   ],
   "source": [
    "# Get classification report # Note: You must import the related module/method from sklearn to run this cell\n",
    "print(classification_report(y_test, y_pred, ['Hernia', 'Normal', 'Spondylolisthesis']))"
   ]
  },
  {
   "cell_type": "markdown",
   "metadata": {},
   "source": [
    "### Part-I Questions\n",
    "\n",
    "Answer the following question HERE:\n",
    "\n",
    "   Q1 [4 points] - According to `feature_importance` of RF classifier, (which works based on the average impurity reduction of the feature across all trees of the forest) what are the most important features in predicting `class`? Name the top three.\n",
    "1. degree_spondylolisthesis\n",
    "2. sacral_slope\n",
    "3. pelvic_incidence\n",
    "\n",
    "Q2 [2 points]- According to your plot of the impact of n_estimators on cv score, what is the best range for n_estimators?\n",
    "The best range is (40 - 55). Even though the ranges at (85-100) is better, it will take longer for not that much change. The reason I would not want to choose earlier values, a little over/under 20, is due to the frequent change in the graph.  \n",
    "\n",
    "Q3 [4 points] - According to classification report of RF classifier, which class is relatively easier to classify? Which class is the hardest to predict? \n",
    "Easiest: Spondylolisthesis, since the F1 score is the highest.\n",
    "Hardest: Hernia, since the f1-score is the lowest\n"
   ]
  },
  {
   "cell_type": "markdown",
   "metadata": {},
   "source": [
    "## Part II - PCA"
   ]
  },
  {
   "cell_type": "markdown",
   "metadata": {},
   "source": [
    "In Part II, you're going to use Principal Component Analysis (PCA) for dimensionality reduction."
   ]
  },
  {
   "cell_type": "code",
   "execution_count": 16,
   "metadata": {},
   "outputs": [],
   "source": [
    "# Create a pca with 3 principal components, and apply it on X and store the transformed data in X3D\n",
    "pca = PCA(n_components=3)\n",
    "X3D = pca.fit_transform(X)"
   ]
  },
  {
   "cell_type": "code",
   "execution_count": 17,
   "metadata": {},
   "outputs": [
    {
     "data": {
      "text/plain": [
       "(310, 3)"
      ]
     },
     "execution_count": 17,
     "metadata": {},
     "output_type": "execute_result"
    }
   ],
   "source": [
    "X3D.shape"
   ]
  },
  {
   "cell_type": "code",
   "execution_count": 18,
   "metadata": {},
   "outputs": [
    {
     "data": {
      "text/plain": [
       "array([ 0.32364565,  0.11319229,  0.30367474,  0.21045336, -0.02995983,\n",
       "        0.86315378])"
      ]
     },
     "execution_count": 18,
     "metadata": {},
     "output_type": "execute_result"
    }
   ],
   "source": [
    "# Check the pca components\n",
    "pca.components_.T[:,0]"
   ]
  },
  {
   "cell_type": "code",
   "execution_count": 19,
   "metadata": {},
   "outputs": [
    {
     "data": {
      "text/plain": [
       "array([0.70963571, 0.13759529, 0.07521804])"
      ]
     },
     "execution_count": 19,
     "metadata": {},
     "output_type": "execute_result"
    }
   ],
   "source": [
    "# Get the list of explained variance ratios for three PCs\n",
    "pca.explained_variance_ratio_"
   ]
  },
  {
   "cell_type": "markdown",
   "metadata": {},
   "source": [
    "> You can see the coefficients of each Principal Component (PC) corresponding to each feature as each PC is a linear combination of features."
   ]
  },
  {
   "cell_type": "code",
   "execution_count": 20,
   "metadata": {},
   "outputs": [
    {
     "data": {
      "text/html": [
       "<div>\n",
       "<style scoped>\n",
       "    .dataframe tbody tr th:only-of-type {\n",
       "        vertical-align: middle;\n",
       "    }\n",
       "\n",
       "    .dataframe tbody tr th {\n",
       "        vertical-align: top;\n",
       "    }\n",
       "\n",
       "    .dataframe thead th {\n",
       "        text-align: right;\n",
       "    }\n",
       "</style>\n",
       "<table border=\"1\" class=\"dataframe\">\n",
       "  <thead>\n",
       "    <tr style=\"text-align: right;\">\n",
       "      <th></th>\n",
       "      <th>pelvic_incidence</th>\n",
       "      <th>pelvic_tilt</th>\n",
       "      <th>lumbar_lordosis_angle</th>\n",
       "      <th>sacral_slope</th>\n",
       "      <th>pelvic_radius</th>\n",
       "      <th>degree_spondylolisthesis</th>\n",
       "    </tr>\n",
       "  </thead>\n",
       "  <tbody>\n",
       "    <tr>\n",
       "      <th>PC-1</th>\n",
       "      <td>0.323646</td>\n",
       "      <td>0.113192</td>\n",
       "      <td>0.303675</td>\n",
       "      <td>0.210453</td>\n",
       "      <td>-0.029960</td>\n",
       "      <td>0.863154</td>\n",
       "    </tr>\n",
       "    <tr>\n",
       "      <th>PC-2</th>\n",
       "      <td>-0.476635</td>\n",
       "      <td>-0.098563</td>\n",
       "      <td>-0.532784</td>\n",
       "      <td>-0.378072</td>\n",
       "      <td>0.321809</td>\n",
       "      <td>0.482438</td>\n",
       "    </tr>\n",
       "    <tr>\n",
       "      <th>PC-3</th>\n",
       "      <td>-0.001545</td>\n",
       "      <td>-0.264657</td>\n",
       "      <td>-0.496542</td>\n",
       "      <td>0.263113</td>\n",
       "      <td>-0.774613</td>\n",
       "      <td>0.118941</td>\n",
       "    </tr>\n",
       "  </tbody>\n",
       "</table>\n",
       "</div>"
      ],
      "text/plain": [
       "      pelvic_incidence  pelvic_tilt  lumbar_lordosis_angle  sacral_slope  \\\n",
       "PC-1          0.323646     0.113192               0.303675      0.210453   \n",
       "PC-2         -0.476635    -0.098563              -0.532784     -0.378072   \n",
       "PC-3         -0.001545    -0.264657              -0.496542      0.263113   \n",
       "\n",
       "      pelvic_radius  degree_spondylolisthesis  \n",
       "PC-1      -0.029960                  0.863154  \n",
       "PC-2       0.321809                  0.482438  \n",
       "PC-3      -0.774613                  0.118941  "
      ]
     },
     "execution_count": 20,
     "metadata": {},
     "output_type": "execute_result"
    }
   ],
   "source": [
    "pc_df = pd.DataFrame(pca.components_,columns=X.columns,index = ['PC-1','PC-2', 'PC-3'])\n",
    "pc_df"
   ]
  },
  {
   "cell_type": "code",
   "execution_count": 21,
   "metadata": {},
   "outputs": [
    {
     "name": "stdout",
     "output_type": "stream",
     "text": [
      "(217, 3)\n",
      "(217,)\n",
      "(93, 3)\n",
      "(93,)\n"
     ]
    }
   ],
   "source": [
    "# Split the data to train and test with ratio of 70/30 for train/test respectively\n",
    "X3D_train, X3D_test, y_train, y_test = train_test_split(X3D, y, test_size=0.30)\n",
    "print(X3D_train.shape)\n",
    "print(y_train.shape)\n",
    "print(X3D_test.shape)\n",
    "print(y_test.shape)"
   ]
  },
  {
   "cell_type": "code",
   "execution_count": 22,
   "metadata": {},
   "outputs": [],
   "source": [
    "# Create a RF classifier, set random_state=42, other hyperparameters should be the same as you tuned before\n",
    "rf_clf = RandomForestClassifier(n_estimators = 100, max_leaf_nodes = 15, min_samples_split = 15,  max_depth = 7, random_state=42)"
   ]
  },
  {
   "cell_type": "code",
   "execution_count": 23,
   "metadata": {},
   "outputs": [
    {
     "name": "stdout",
     "output_type": "stream",
     "text": [
      "Mean cv Score - Random Forest:  0.7155555555555556\n"
     ]
    }
   ],
   "source": [
    "# Perform a 10-fold cross validation with scoring='balanced_accuracy'\n",
    "# cross validation should be done on X3D and y\n",
    "rf_cv_score_3D = cross_val_score(rf_clf, X3D, y, cv=10, scoring='balanced_accuracy')\n",
    "\n",
    "print(\"Mean cv Score - Random Forest: \", rf_cv_score_3D.mean())"
   ]
  },
  {
   "cell_type": "markdown",
   "metadata": {},
   "source": [
    "> So the mean cv score dropped after dimensionality reduction. We may have missed some information after PCA, but let's also check balanced accuracy on the test set."
   ]
  },
  {
   "cell_type": "code",
   "execution_count": 24,
   "metadata": {},
   "outputs": [
    {
     "data": {
      "text/plain": [
       "RandomForestClassifier(max_depth=7, max_leaf_nodes=15, min_samples_split=15,\n",
       "                       random_state=42)"
      ]
     },
     "execution_count": 24,
     "metadata": {},
     "output_type": "execute_result"
    }
   ],
   "source": [
    "# Fit the rf_clf on X3D_train\n",
    "rf_clf.fit(X3D_train, y_train)"
   ]
  },
  {
   "cell_type": "code",
   "execution_count": 25,
   "metadata": {},
   "outputs": [],
   "source": [
    "# Make predictions on X3D_test\n",
    "y_pred_3D = rf_clf.predict(X3D_test)"
   ]
  },
  {
   "cell_type": "code",
   "execution_count": 26,
   "metadata": {},
   "outputs": [
    {
     "data": {
      "text/plain": [
       "0.7443667443667444"
      ]
     },
     "execution_count": 26,
     "metadata": {},
     "output_type": "execute_result"
    }
   ],
   "source": [
    "# Get the balanced accuracy of predictions on X3D_test\n",
    "balanced_acc_3D = balanced_accuracy_score(y_test, y_pred_3D)\n",
    "balanced_acc_3D"
   ]
  },
  {
   "cell_type": "code",
   "execution_count": 27,
   "metadata": {},
   "outputs": [
    {
     "name": "stdout",
     "output_type": "stream",
     "text": [
      "                   precision    recall  f1-score   support\n",
      "\n",
      "           Hernia       0.62      0.38      0.48        13\n",
      "           Normal       0.78      0.85      0.81        33\n",
      "Spondylolisthesis       0.96      1.00      0.98        47\n",
      "\n",
      "         accuracy                           0.86        93\n",
      "        macro avg       0.79      0.74      0.76        93\n",
      "     weighted avg       0.85      0.86      0.85        93\n",
      "\n"
     ]
    }
   ],
   "source": [
    "# Get classification report of RF on X3D_test predictions\n",
    "print(classification_report(y_test, y_pred_3D, ['Hernia', 'Normal', 'Spondylolisthesis']))"
   ]
  },
  {
   "cell_type": "markdown",
   "metadata": {},
   "source": [
    "> The balanced accuracy of the test set `X3D_test` dropped too, thus we need a methodic approach to find out the optimal number of PCs and the level of dimensionality reduction. One way is using the plot of explained variance ratio as a function of the number of dimensions (PCs)."
   ]
  },
  {
   "cell_type": "markdown",
   "metadata": {},
   "source": [
    "> Plot the cumulative explained variance as a function of the number of principal components. This plot can tell you what the optimal number of PCs is.\n",
    "\n",
    "> The cumulative explained variance of $n$ PCs is the sum of explained variance ratios of the first $n$ PCs. For example, the cumulative explained variance of two PCs is the sum of explained variance ratio of the first PC, i.e. 0.70963571, plus the 2nd PC, i.e. 0.13759529, thus it is 0.847231 (check the values of `explained_variance_ratio_`)."
   ]
  },
  {
   "cell_type": "code",
   "execution_count": 28,
   "metadata": {},
   "outputs": [
    {
     "data": {
      "image/png": "[encoded data removed]",
      "text/plain": [
       "<Figure size 432x288 with 1 Axes>"
      ]
     },
     "metadata": {
      "needs_background": "light"
     },
     "output_type": "display_data"
    }
   ],
   "source": [
    "# Plot the cumulative explained variance as a function of number of principal components\n",
    "# The plot should have `seaborn` style\n",
    "# The plot should have correct axis labels, xticks/labels (1,2,3,4,5,6 number of PCs) precisely as the plot below\n",
    "#axis = ['1', '2', '3', '4','5','6']\n",
    "pca = PCA(n_components=6)\n",
    "pca.fit(X)\n",
    "p = np.cumsum(pca.explained_variance_ratio_)\n",
    "\n",
    "plt.plot(['1', '2', '3', '4','5','6'], p)\n",
    "plt.xlabel('Number of Principal Components')\n",
    "plt.ylabel('Explained Variance Ratio');"
   ]
  },
  {
   "cell_type": "markdown",
   "metadata": {},
   "source": [
    "### Part II Questions"
   ]
  },
  {
   "cell_type": "markdown",
   "metadata": {},
   "source": [
    "Anwser the following question HERE:\n",
    "\n",
    "Q4 [4 points] - Specify for each PC, which feature has the highest correlation (absolute value of the corresponding coeffieicent) with that PC? You should name the feature that has the highest (absolute value) coefficient in the `pc_df` dataframe above - the one which has PCs as rows.\n",
    "PC1: degree_spondylolisthesis\n",
    "PC2: lumbar_lordosis_angle\t\n",
    "PC3: pelvic_radius\n",
    "\n",
    "\n",
    "Q5 [4 points] - Which of the 6 features has the highest importance in random forest `feature_importances_` which also has a high correlation with one of the 3 PCs returned by PCA? Notice that this can be an indication of consistency between PCA results and `feature_importances_` of RF classifier.\n",
    "degree_spondylolisthesis\n",
    "\n",
    "\n",
    "Q6 [12 points]\n",
    "- **(a)** [2 points] - Based on the explained variance ratio plot, what is an appropriate number for principal compoenents if the goal is to preserve at least 97% of variance?\n",
    "5\n",
    "\n",
    "\n",
    "- **(b)** [5 points] What is the exact value of cumulative explained variance (a float number with two decimal places) when the number of principal components is 4? The cumulative explained variance for $n$ PCs is the sum of explained variance ratio of the first $n$ PCs. To answer this part, you must add a code cell below and get the cumulative explained variance when the number of PCs is four.\n",
    "0.96\n"
   ]
  },
  {
   "cell_type": "code",
   "execution_count": 29,
   "metadata": {},
   "outputs": [
    {
     "name": "stdout",
     "output_type": "stream",
     "text": [
      "[0.70963571 0.847231   0.92244904 0.9646918  1.         1.        ]\n"
     ]
    }
   ],
   "source": [
    "print(p)"
   ]
  },
  {
   "cell_type": "markdown",
   "metadata": {},
   "source": [
    "- **(c)** [5 points] Based on your answer to the part (a) and (b) of Q6, what is the mean cv score if you reduce to the number of dimensions while preserving at least 97% of variance? To answer this part, you must add a code cell below, do PCA while preserving at least 97% and report the mean cv score (same cv hyperparameters as before).\n"
   ]
  },
  {
   "cell_type": "code",
   "execution_count": 30,
   "metadata": {},
   "outputs": [
    {
     "name": "stdout",
     "output_type": "stream",
     "text": [
      "Mean cv Score - Random Forest:  0.8022222222222222\n"
     ]
    }
   ],
   "source": [
    "pca = PCA(n_components=5)\n",
    "X3D = pca.fit_transform(X)\n",
    "rf_cv_score_3D = cross_val_score(rf_clf, X3D, y, cv=10, scoring='balanced_accuracy')\n",
    "print(\"Mean cv Score - Random Forest: \", rf_cv_score_3D.mean())"
   ]
  }
 ],
 "metadata": {
  "kernelspec": {
   "display_name": "Python 3",
   "language": "python",
   "name": "python3"
  },
  "language_info": {
   "codemirror_mode": {
    "name": "ipython",
    "version": 3
   },
   "file_extension": ".py",
   "mimetype": "text/x-python",
   "name": "python",
   "nbconvert_exporter": "python",
   "pygments_lexer": "ipython3",
   "version": "3.8.3"
  }
 },
 "nbformat": 4,
 "nbformat_minor": 2
}
